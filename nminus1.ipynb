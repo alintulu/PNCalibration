{
 "cells": [
  {
   "cell_type": "code",
   "execution_count": 2,
   "id": "1d34ba9b",
   "metadata": {},
   "outputs": [],
   "source": [
    "import awkward as ak\n",
    "import matplotlib.pyplot as plt\n",
    "import os, sys\n",
    "import subprocess\n",
    "import json\n",
    "import uproot\n",
    "from coffea.nanoevents import NanoEventsFactory, ScoutingNanoAODSchema\n",
    "from coffea.lookup_tools.lookup_base import lookup_base\n",
    "import numpy as np\n",
    "from coffea import processor, util\n",
    "from hist import Hist\n",
    "import hist\n",
    "from coffea.analysis_tools import Weights, PackedSelection\n",
    "from collections import defaultdict\n",
    "import mplhep\n",
    "plt.style.use(mplhep.style.CMS)"
   ]
  },
  {
   "cell_type": "code",
   "execution_count": 3,
   "id": "1bea07c4",
   "metadata": {},
   "outputs": [
    {
     "data": {
      "text/plain": [
       "{'sumw': defaultdict(float, {}),\n",
       " 'events': defaultdict(int, {'Run2022D_HLT_Mu50_noCHS': 1461944}),\n",
       " 'passtrig': defaultdict(int, {'Run2022D_HLT_Mu50_noCHS': 1444481}),\n",
       " 'cutflow': Hist(\n",
       "   StrCategory(['Run2022D_HLT_Mu50_noCHS'], growth=True, name='dataset', label='Dataset'),\n",
       "   IntCategory([-1], growth=True, name='cat', label='Category'),\n",
       "   Regular(30, 40, 220, name='msoftdrop'),\n",
       "   Regular(30, 0, 1, name='pn_Hbb', label='H(bb) vs QCD score'),\n",
       "   IntCategory([0, 1, 2, 3, 4, 5], growth=True, name='cut', label='Cut Idx'),\n",
       "   storage=Weight()) # Sum: WeightedSum(value=5453, variance=5453) (WeightedSum(value=3.45761e+06, variance=3.45761e+06) with flow),\n",
       " 'hltmu50': Hist(\n",
       "   StrCategory(['Run2022D_HLT_Mu50_noCHS'], growth=True, name='dataset', label='Dataset'),\n",
       "   StrCategory(['noselection', 'all'], growth=True, name='region', label='Region'),\n",
       "   IntCategory([], name='hltmu50', label='HLT Muon 50'),\n",
       "   IntCategory([-1], growth=True, name='cat', label='Category'),\n",
       "   storage=Weight()) # Sum: WeightedSum(value=0, variance=0) (WeightedSum(value=1.46345e+06, variance=1.46345e+06) with flow),\n",
       " 'met': Hist(\n",
       "   StrCategory(['Run2022D_HLT_Mu50_noCHS'], growth=True, name='dataset', label='Dataset'),\n",
       "   StrCategory(['noselection', 'all'], growth=True, name='region', label='Region'),\n",
       "   Regular(30, 0, 400, name='pt', label='MET $p_T$'),\n",
       "   IntCategory([-1], growth=True, name='cat', label='Category'),\n",
       "   storage=Weight()) # Sum: WeightedSum(value=1.46313e+06, variance=1.46313e+06) (WeightedSum(value=1.46345e+06, variance=1.46345e+06) with flow),\n",
       " 'goodmuon': Hist(\n",
       "   StrCategory(['Run2022D_HLT_Mu50_noCHS'], growth=True, name='dataset', label='Dataset'),\n",
       "   StrCategory(['noselection', 'all'], growth=True, name='region', label='Region'),\n",
       "   Regular(30, 0, 300, name='pt', label='Leading muon $p_T$'),\n",
       "   Regular(30, 0, 2, name='trk_dz', label='Leading muon track dz'),\n",
       "   Regular(30, 0, 2, name='trackIso', label='Leading muon trackIso'),\n",
       "   IntCategory([-1], growth=True, name='cat', label='Category'),\n",
       "   storage=Weight()) # Sum: WeightedSum(value=311164, variance=311164) (WeightedSum(value=1.46345e+06, variance=1.46345e+06) with flow),\n",
       " 'leptonicW': Hist(\n",
       "   StrCategory(['Run2022D_HLT_Mu50_noCHS'], growth=True, name='dataset', label='Dataset'),\n",
       "   StrCategory(['noselection', 'all'], growth=True, name='region', label='Region'),\n",
       "   Regular(30, 0, 400, name='pt', label='Leptonic W $p_T$'),\n",
       "   IntCategory([-1], growth=True, name='cat', label='Category'),\n",
       "   storage=Weight()) # Sum: WeightedSum(value=40084, variance=40084) (WeightedSum(value=1.46345e+06, variance=1.46345e+06) with flow),\n",
       " 'ak4bjet': Hist(\n",
       "   StrCategory(['Run2022D_HLT_Mu50_noCHS'], growth=True, name='dataset', label='Dataset'),\n",
       "   StrCategory(['noselection', 'all'], growth=True, name='region', label='Region'),\n",
       "   Regular(30, 0, 50, name='njets', label='Number of AK4 b-jet in same hem. as muon'),\n",
       "   Regular(30, 0, 1.1, name='pn_b_1', label='Leading AK4 b vs g score'),\n",
       "   IntCategory([-1], growth=True, name='cat', label='Category'),\n",
       "   storage=Weight()) # Sum: WeightedSum(value=40089, variance=40089) (WeightedSum(value=1.46345e+06, variance=1.46345e+06) with flow),\n",
       " 'ak8jet': Hist(\n",
       "   StrCategory(['Run2022D_HLT_Mu50_noCHS'], growth=True, name='dataset', label='Dataset'),\n",
       "   StrCategory(['noselection', 'all'], growth=True, name='region', label='Region'),\n",
       "   Regular(30, 0, 400, name='pt', label='Leptonic W $p_T$'),\n",
       "   Regular(30, 0, 1.1, name='pn_Hbb', label='Leading AK8 H(bb) vs QCD'),\n",
       "   IntCategory([-1], growth=True, name='cat', label='Category'),\n",
       "   storage=Weight()) # Sum: WeightedSum(value=7029, variance=7029) (WeightedSum(value=1.46345e+06, variance=1.46345e+06) with flow)}"
      ]
     },
     "execution_count": 3,
     "metadata": {},
     "output_type": "execute_result"
    }
   ],
   "source": [
    "out = util.load(\"outfiles/Run3Summer22/lumi25000hltmu50/nminus1_Run2022D_HLT_Mu50_noCHS.coffea\")\n",
    "out"
   ]
  },
  {
   "cell_type": "code",
   "execution_count": 4,
   "id": "ed6d431f",
   "metadata": {},
   "outputs": [
    {
     "data": {
      "text/plain": [
       "Hist(\n",
       "  StrCategory(['Run2022D_HLT_Mu50_noCHS'], growth=True, name='dataset', label='Dataset'),\n",
       "  StrCategory(['noselection', 'all'], growth=True, name='region', label='Region'),\n",
       "  Regular(30, 0, 400, name='pt', label='MET $p_T$'),\n",
       "  IntCategory([-1], growth=True, name='cat', label='Category'),\n",
       "  storage=Weight()) # Sum: WeightedSum(value=1.46313e+06, variance=1.46313e+06) (WeightedSum(value=1.46345e+06, variance=1.46345e+06) with flow)"
      ]
     },
     "execution_count": 4,
     "metadata": {},
     "output_type": "execute_result"
    }
   ],
   "source": [
    "out[\"met\"]"
   ]
  },
  {
   "cell_type": "code",
   "execution_count": null,
   "id": "89f8dce9",
   "metadata": {},
   "outputs": [],
   "source": []
  }
 ],
 "metadata": {
  "kernelspec": {
   "display_name": "Python 3 (ipykernel)",
   "language": "python",
   "name": "python3"
  },
  "language_info": {
   "codemirror_mode": {
    "name": "ipython",
    "version": 3
   },
   "file_extension": ".py",
   "mimetype": "text/x-python",
   "name": "python",
   "nbconvert_exporter": "python",
   "pygments_lexer": "ipython3",
   "version": "3.8.13"
  }
 },
 "nbformat": 4,
 "nbformat_minor": 5
}
