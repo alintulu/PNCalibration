{
 "cells": [
  {
   "cell_type": "code",
   "execution_count": null,
   "metadata": {},
   "outputs": [],
   "source": [
    "import uproot \n",
    "import mplhep as hep\n",
    "import matplotlib.pyplot as plt\n",
    "import numpy as np"
   ]
  },
  {
   "cell_type": "code",
   "execution_count": null,
   "metadata": {},
   "outputs": [],
   "source": [
    "f = uproot.open('fitdir/fitDiagnostics.root')"
   ]
  },
  {
   "cell_type": "code",
   "execution_count": 12,
   "metadata": {},
   "outputs": [
    {
     "data": {
      "text/plain": [
       "['data;1',\n",
       " 'qcd;1',\n",
       " 'wqq;1',\n",
       " 'total;1',\n",
       " 'total_signal;1',\n",
       " 'total_background;1',\n",
       " 'total_covar;1']"
      ]
     },
     "execution_count": 12,
     "metadata": {},
     "output_type": "execute_result"
    }
   ],
   "source": [
    "f['shapes_fit_s/wsffail'].keys()"
   ]
  },
  {
   "cell_type": "code",
   "execution_count": 13,
   "metadata": {},
   "outputs": [
    {
     "data": {
      "image/png": "[encoded data removed]",
      "text/plain": [
       "<Figure size 1008x360 with 2 Axes>"
      ]
     },
     "metadata": {},
     "output_type": "display_data"
    }
   ],
   "source": [
    "fig, (ax1, ax2) = plt.subplots(1, 2, figsize=(14, 5))\n",
    "\n",
    "for reg, ax in zip(['pass', 'fail'], [ax1, ax2]):\n",
    "    plt.sca(ax)\n",
    "    hs = []\n",
    "    for key in \"qcd\", \"wqq\":\n",
    "        h, bins = f['shapes_fit_s/wsf{}/{}'.format(reg, key)].numpy()\n",
    "        hs.append(h)\n",
    "        \n",
    "    data = f['shapes_fit_s/wsf{}/data'.format(reg)]\n",
    "    plt.errorbar(data.xvalues, data.yvalues, fmt='o', c='k')\n",
    "\n",
    "    hep.histplot(hs, bins, stack=True, histtype='fill')"
   ]
  },
  {
   "cell_type": "code",
   "execution_count": 8,
   "metadata": {},
   "outputs": [
    {
     "data": {
      "text/plain": [
       "array([ 40. ,  43.5,  47. ,  50.5,  54. ,  57.5,  61. ,  64.5,  68. ,\n",
       "        71.5,  75. ,  78.5,  82. ,  85.5,  89. ,  92.5,  96. ,  99.5,\n",
       "       103. , 106.5, 110. , 113.5, 117. , 120.5, 124. , 127.5, 131. ,\n",
       "       134.5, 138. , 141.5])"
      ]
     },
     "execution_count": 8,
     "metadata": {},
     "output_type": "execute_result"
    }
   ],
   "source": [
    "bins"
   ]
  },
  {
   "cell_type": "code",
   "execution_count": 9,
   "metadata": {},
   "outputs": [
    {
     "data": {
      "text/plain": [
       "array([ 40. ,  43.5,  47. ,  50.5,  54. ,  57.5,  61. ,  64.5,  68. ,\n",
       "        71.5,  75. ,  78.5,  82. ,  85.5,  89. ,  92.5,  96. ,  99.5,\n",
       "       103. , 106.5, 110. , 113.5, 117. , 120.5, 124. , 127.5, 131. ,\n",
       "       134.5, 138. , 141.5])"
      ]
     },
     "execution_count": 9,
     "metadata": {},
     "output_type": "execute_result"
    }
   ],
   "source": [
    "np.linspace(40, 141.5, 30)"
   ]
  },
  {
   "cell_type": "code",
   "execution_count": null,
   "metadata": {},
   "outputs": [],
   "source": []
  }
 ],
 "metadata": {
  "kernelspec": {
   "display_name": "Python 3 (ipykernel)",
   "language": "python",
   "name": "python3"
  },
  "language_info": {
   "codemirror_mode": {
    "name": "ipython",
    "version": 3
   },
   "file_extension": ".py",
   "mimetype": "text/x-python",
   "name": "python",
   "nbconvert_exporter": "python",
   "pygments_lexer": "ipython3",
   "version": "3.8.13"
  }
 },
 "nbformat": 4,
 "nbformat_minor": 2
}
