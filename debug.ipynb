{
 "cells": [
  {
   "cell_type": "code",
   "execution_count": 1,
   "id": "c0e84a71",
   "metadata": {},
   "outputs": [],
   "source": [
    "import awkward as ak\n",
    "import matplotlib.pyplot as plt\n",
    "import os, sys\n",
    "import subprocess\n",
    "import json\n",
    "import uproot\n",
    "from coffea.nanoevents import NanoEventsFactory, ScoutingNanoAODSchema\n",
    "from coffea.lookup_tools.lookup_base import lookup_base\n",
    "import numpy as np\n",
    "from coffea import processor, util\n",
    "from hist import Hist\n",
    "import hist\n",
    "from coffea.analysis_tools import Weights, PackedSelection\n",
    "from collections import defaultdict\n",
    "import mplhep\n",
    "plt.style.use(mplhep.style.CMS)"
   ]
  },
  {
   "cell_type": "code",
   "execution_count": 2,
   "id": "afcc14a8",
   "metadata": {
    "scrolled": false
   },
   "outputs": [],
   "source": [
    "fileset = {\n",
    "    \"TTtoLNu2Q\" : [\n",
    "        \"root://eosuser.cern.ch//eos/user/a/adlintul/TTtoLNu2Q_TuneCP5_13p6TeV_powheg-pythia8/Run3Summer22/230131_071621/0000/nanoaod_1.root\"\n",
    "    ],\n",
    "#     \"Run2022D\" : [\n",
    "#         \"root://eosuser.cern.ch//eos/user/a/adlintul/ScoutingPFRun3/Run2022D/230206_163934/0000/scoutingnano_1.root\"\n",
    "#     ],\n",
    "}"
   ]
  },
  {
   "cell_type": "code",
   "execution_count": 3,
   "id": "0f52750d",
   "metadata": {},
   "outputs": [],
   "source": [
    "events = NanoEventsFactory.from_root(\n",
    "    fileset[\"TTtoLNu2Q\"][0],\n",
    "    schemaclass=ScoutingNanoAODSchema,\n",
    ").events()"
   ]
  },
  {
   "cell_type": "code",
   "execution_count": 4,
   "id": "bdd52389",
   "metadata": {},
   "outputs": [],
   "source": [
    "fatjet = events.ScoutingFatJet"
   ]
  },
  {
   "cell_type": "code",
   "execution_count": 50,
   "id": "525352a8",
   "metadata": {},
   "outputs": [],
   "source": [
    "jets = events.ScoutingJet"
   ]
  },
  {
   "cell_type": "code",
   "execution_count": 5,
   "id": "0caf5321",
   "metadata": {},
   "outputs": [],
   "source": [
    "muon = events.ScoutingMuon"
   ]
  },
  {
   "cell_type": "code",
   "execution_count": 48,
   "id": "d63fa683",
   "metadata": {},
   "outputs": [],
   "source": [
    "goodmuon = (\n",
    "            (events.ScoutingMuon.pt > 55)\n",
    "            & (abs(events.ScoutingMuon.eta) < 2.4)\n",
    "            & (abs(events.ScoutingMuon.trk_dxy) < 0.2)\n",
    "            #& (abs(events.ScoutingMuon.trk_dz) < 0.5)\n",
    "            #& (events.ScoutingMuon[\"type\"] == 2)\n",
    "            & (events.ScoutingMuon.normchi2 < 10)\n",
    "            & (events.ScoutingMuon.nValidRecoMuonHits > 0)\n",
    "            & (events.ScoutingMuon.nRecoMuonMatchedStations > 1)\n",
    "            & (events.ScoutingMuon.nValidPixelHits > 0)\n",
    "            & (events.ScoutingMuon.nTrackerLayersWithMeasurement > 5)            \n",
    "        )"
   ]
  },
  {
   "cell_type": "code",
   "execution_count": 51,
   "id": "2ab0dfe8",
   "metadata": {},
   "outputs": [
    {
     "name": "stderr",
     "output_type": "stream",
     "text": [
      "/opt/conda/lib/python3.8/site-packages/awkward/_connect/_numpy.py:195: RuntimeWarning: invalid value encountered in sqrt\n",
      "  result = getattr(ufunc, method)(\n"
     ]
    }
   ],
   "source": [
    "muons = events.ScoutingMuon[goodmuon]\n",
    "near_jet, near_jet_dr = muons.nearest(jets, axis=1, return_metric=True)\n",
    "muon_pt_rel = np.sqrt(muons.rho**2 - muons.dot(near_jet.unit)**2)"
   ]
  },
  {
   "cell_type": "code",
   "execution_count": 58,
   "id": "c87bf0c0",
   "metadata": {},
   "outputs": [
    {
     "data": {
      "text/plain": [
       "<Array [[], [], [], [], ... False], [], [], []] type='695 * var * ?bool'>"
      ]
     },
     "execution_count": 58,
     "metadata": {},
     "output_type": "execute_result"
    }
   ],
   "source": [
    "(near_jet_dr > 0.4) | (muon_pt_rel > 25)"
   ]
  },
  {
   "cell_type": "code",
   "execution_count": 61,
   "id": "72ee3287",
   "metadata": {},
   "outputs": [],
   "source": [
    "iso_muons = muons[(\n",
    "    (near_jet_dr > 0.4) | (muon_pt_rel > 25)\n",
    ")]"
   ]
  },
  {
   "cell_type": "code",
   "execution_count": 68,
   "id": "428d7231",
   "metadata": {},
   "outputs": [
    {
     "data": {
      "text/plain": [
       "<PtEtaPhiMCollectionArray [[], [], [], [], ... [], [], [], []] type='695 * var *...'>"
      ]
     },
     "execution_count": 68,
     "metadata": {},
     "output_type": "execute_result"
    }
   ],
   "source": [
    "iso_muons"
   ]
  },
  {
   "cell_type": "code",
   "execution_count": 72,
   "id": "64a1722d",
   "metadata": {},
   "outputs": [
    {
     "data": {
      "text/plain": [
       "<Array [0, 0, 0, 0, 0, 0, ... 0, 0, 0, 0, 0, 0] type='695 * int64'>"
      ]
     },
     "execution_count": 72,
     "metadata": {},
     "output_type": "execute_result"
    }
   ],
   "source": [
    "ak.num(iso_muons)"
   ]
  },
  {
   "cell_type": "code",
   "execution_count": null,
   "id": "69fd7245",
   "metadata": {},
   "outputs": [],
   "source": []
  }
 ],
 "metadata": {
  "kernelspec": {
   "display_name": "Python 3 (ipykernel)",
   "language": "python",
   "name": "python3"
  },
  "language_info": {
   "codemirror_mode": {
    "name": "ipython",
    "version": 3
   },
   "file_extension": ".py",
   "mimetype": "text/x-python",
   "name": "python",
   "nbconvert_exporter": "python",
   "pygments_lexer": "ipython3",
   "version": "3.8.13"
  }
 },
 "nbformat": 4,
 "nbformat_minor": 5
}
