{
 "cells": [
  {
   "cell_type": "code",
   "execution_count": 3,
   "id": "9eac08aa",
   "metadata": {},
   "outputs": [],
   "source": [
    "import awkward as ak\n",
    "import matplotlib.pyplot as plt\n",
    "import os, sys\n",
    "import subprocess\n",
    "import json\n",
    "import uproot\n",
    "from coffea.nanoevents import NanoEventsFactory, ScoutingNanoAODSchema\n",
    "from coffea.lookup_tools.lookup_base import lookup_base\n",
    "import numpy as np\n",
    "from coffea import processor, util\n",
    "from hist import Hist\n",
    "import hist\n",
    "from coffea.analysis_tools import Weights, PackedSelection\n",
    "from collections import defaultdict\n",
    "import mplhep\n",
    "plt.style.use(mplhep.style.CMS)"
   ]
  },
  {
   "cell_type": "code",
   "execution_count": 15,
   "id": "55ebe6f9",
   "metadata": {},
   "outputs": [],
   "source": [
    "class Processor(processor.ProcessorABC):\n",
    "    def __init__(self, wp_btag=0):\n",
    "        self._wp_btag = wp_btag\n",
    "        \n",
    "    @property\n",
    "    def accumulator(self):\n",
    "        return {\n",
    "            \"sumw\": defaultdict(float),\n",
    "            #\"cutflow\": defaultdict(int),\n",
    "            \"cutflow\": (\n",
    "                            Hist.new.StrCategory(\n",
    "                                [], name=\"dataset\", label=\"Dataset\", growth=True\n",
    "                            ).StrCategory(\n",
    "                                [], name=\"region\", label=\"Region\", growth=True\n",
    "                            ).IntCategory(\n",
    "                                [], name=\"cut\", label=\"Cut Idx\", growth=True\n",
    "                            ).Reg(\n",
    "                                50, 40, 220, name=\"msoftdrop\", label=r\"msoftdrop\"\n",
    "                            ).Double()\n",
    "                        ),\n",
    "            \"met\": (\n",
    "                            Hist.new.StrCategory(\n",
    "                                [], name=\"dataset\", label=\"Dataset\", growth=True\n",
    "                            ).StrCategory(\n",
    "                                [], name=\"region\", label=\"Region\", growth=True\n",
    "                            ).Reg(\n",
    "                                50, 0, 400, name=\"pt\", label=r\"MET $p_T$\"\n",
    "                            ).Double()\n",
    "                        ),\n",
    "            \"goodmuon\": (\n",
    "                            Hist.new.StrCategory(\n",
    "                                [], name=\"dataset\", label=\"Dataset\", growth=True\n",
    "                            ).StrCategory(\n",
    "                                [], name=\"region\", label=\"Region\", growth=True\n",
    "                            ).Reg(\n",
    "                                50, 0, 400, name=\"pt\", label=r\"Leading muon $p_T$\"\n",
    "                            ).Double()\n",
    "                        ),\n",
    "            \"leptonicW\": (\n",
    "                            Hist.new.StrCategory(\n",
    "                                [], name=\"dataset\", label=\"Dataset\", growth=True\n",
    "                            ).StrCategory(\n",
    "                                [], name=\"region\", label=\"Region\", growth=True\n",
    "                            ).Reg(\n",
    "                                50, 0, 400, name=\"pt\", label=r\"Leptonic W $p_T$\"\n",
    "                            ).Double()\n",
    "                        ),\n",
    "            \"ak4bjet\": (\n",
    "                            Hist.new.StrCategory(\n",
    "                                [], name=\"dataset\", label=\"Dataset\", growth=True\n",
    "                            ).StrCategory(\n",
    "                                [], name=\"region\", label=\"Region\", growth=True\n",
    "                            ).Reg(\n",
    "                                50, 0, 10, name=\"njets\", label=r\"Number of AK4\"\n",
    "                            ).Reg(\n",
    "                                50, 0, 1, name=\"pn_b_1\", label=r\"1st AK4 pn_b\"\n",
    "                            ).Double()\n",
    "                        ),\n",
    "            \"ak8jet\": (\n",
    "                            Hist.new.StrCategory(\n",
    "                                [], name=\"dataset\", label=\"Dataset\", growth=True\n",
    "                            ).StrCategory(\n",
    "                                [], name=\"region\", label=\"Region\", growth=True\n",
    "                            ).Reg(\n",
    "                                50, 0, 400, name=\"pt\", label=r\"AK8 $p_T$\"\n",
    "                            ).Reg(\n",
    "                                50, 0, 5, name=\"dphi\", label=r\"AK8 dphi\"\n",
    "                            ).Double()\n",
    "                        ),\n",
    "        }\n",
    "           \n",
    "        \n",
    "    def process(self, events):\n",
    "        \n",
    "        output = self.accumulator\n",
    "        dataset = events.metadata['dataset']\n",
    "        \n",
    "        isRealData = not hasattr(events, \"genWeight\")\n",
    "        isQCDMC = 'QCD' in dataset\n",
    "        \n",
    "        selection = PackedSelection()\n",
    "        \n",
    "        if not isRealData:\n",
    "            output['sumw'][dataset] += ak.sum(events.genWeight)\n",
    "            \n",
    "        if len(events) == 0:\n",
    "            return output\n",
    "        \n",
    "        fatjets = events.ScoutingFatJet\n",
    "        fatjets[\"pn_Hbb\"] = ak.where((fatjets.particleNet_prob_Hbb + fatjets.particleNet_prob_QCD) == 0, 0, (fatjets.particleNet_prob_Hbb / (fatjets.particleNet_prob_Hbb + fatjets.particleNet_prob_QCD)))\n",
    "        jets = events.ScoutingJet\n",
    "        jets[\"pn_b\"] = ak.where((jets.particleNet_prob_b + jets.particleNet_prob_g) == 0, 0, (jets.particleNet_prob_b / (jets.particleNet_prob_b + jets.particleNet_prob_g)))\n",
    "        \n",
    "        # trigger\n",
    "        selection.add(\"trigger\", events.HLT[\"Mu50\"])\n",
    "        \n",
    "        # require MET\n",
    "        met = events.ScoutingMET\n",
    "        selection.add('met', met.pt > 50)\n",
    "        \n",
    "        # require at least one good muon\n",
    "        goodmuon = (\n",
    "            (events.ScoutingMuon.pt > 55)\n",
    "            & (abs(events.ScoutingMuon.eta) < 2.4)\n",
    "            & (abs(events.ScoutingMuon.trk_dxy) < 0.2)\n",
    "            #& (abs(events.ScoutingMuon.trk_dz) < 0.5)\n",
    "            #& (events.ScoutingMuon[\"type\"] == 2)\n",
    "            & (events.ScoutingMuon.normchi2 < 10)\n",
    "            & (events.ScoutingMuon.nValidRecoMuonHits > 0)\n",
    "            & (events.ScoutingMuon.nRecoMuonMatchedStations > 1)\n",
    "            & (events.ScoutingMuon.nValidPixelHits > 0)\n",
    "            & (events.ScoutingMuon.nTrackerLayersWithMeasurement > 5)            \n",
    "        )\n",
    "        \n",
    "        nmuons = ak.sum(goodmuon, axis=1)\n",
    "        selection.add('onemuon', (nmuons > 0))\n",
    "        \n",
    "        # require good leptonic W \n",
    "        leadingmuon = ak.firsts(events.ScoutingMuon[goodmuon])\n",
    "        leptonicW = met + leadingmuon\n",
    "        selection.add('leptonicW', leptonicW.pt > 150)\n",
    "        \n",
    "        # require at least one b-jet in the same hemisphere of the leading muon\n",
    "        dphi = abs(jets.delta_phi(leadingmuon))\n",
    "        jetsamehemisp = jets[dphi < 2]\n",
    "        bjets = (jetsamehemisp.pn_b > self._wp_btag)\n",
    "        nbjets = ak.sum(bjets, axis=1)\n",
    "        selection.add('onebjet', (nbjets > 0))\n",
    "\n",
    "        # require fatjet away from the leading muon\n",
    "        dphi = abs(fatjets.delta_phi(leadingmuon))\n",
    "        is_away = (dphi > 2)\n",
    "        nfatjets = ak.sum(is_away, axis=1)\n",
    "        selection.add('onefatjet', (nfatjets > 0))\n",
    "        \n",
    "        proxy = ak.firsts(fatjets[(is_away) & (fatjets.pt > 200)])\n",
    "            \n",
    "        regions = {\n",
    "            'all': ['trigger','met','onemuon','leptonicW','onebjet','onefatjet'],\n",
    "            'noselection': ['trigger'],\n",
    "        }\n",
    "        \n",
    "        def normalize(val, cut):\n",
    "            if cut is None:\n",
    "                ar = ak.to_numpy(ak.fill_none(val, np.nan))\n",
    "                return ar\n",
    "            else:\n",
    "                ar = ak.to_numpy(ak.fill_none(val[cut], np.nan))\n",
    "                return ar\n",
    "            \n",
    "        for region, cuts in regions.items():\n",
    "            if region == \"noselection\":\n",
    "                continue\n",
    "            allcuts = set([])\n",
    "            cut = selection.all(*allcuts)\n",
    "            \n",
    "            output['cutflow'].fill(\n",
    "                dataset=dataset,\n",
    "                region=region,\n",
    "                msoftdrop=normalize(proxy.msoftdrop, cut),\n",
    "                cut=0,\n",
    "            )\n",
    "            \n",
    "            for i, cut in enumerate(cuts):\n",
    "                allcuts.add(cut)\n",
    "                cut = selection.all(*allcuts)\n",
    "                \n",
    "                output['cutflow'].fill(\n",
    "                    dataset=dataset,\n",
    "                    region=region,\n",
    "                    msoftdrop=normalize(proxy.msoftdrop, cut),\n",
    "                    cut=i + 1,\n",
    "                )\n",
    "                \n",
    "        def fill(region):\n",
    "            selections = regions[region]\n",
    "            cut = selection.all(*selections)\n",
    "            \n",
    "            output['met'].fill(\n",
    "                dataset=dataset,\n",
    "                region=region,\n",
    "                pt=normalize(met.pt, cut),\n",
    "            )\n",
    "            \n",
    "            output['goodmuon'].fill(\n",
    "                dataset=dataset,\n",
    "                region=region,\n",
    "                pt=normalize(leadingmuon.pt, cut),\n",
    "            )\n",
    "            \n",
    "            output['leptonicW'].fill(\n",
    "                dataset=dataset,\n",
    "                region=region,\n",
    "                pt=normalize(leptonicW.pt, cut),\n",
    "            )\n",
    "\n",
    "            output['ak4bjet'].fill(\n",
    "                dataset=dataset,\n",
    "                region=region,\n",
    "                njets=normalize(ak.num(jetsamehemisp), cut),\n",
    "                pn_b_1=normalize(ak.firsts(jetsamehemisp)[\"pn_b\"], cut),\n",
    "            )\n",
    "            \n",
    "            output['ak8jet'].fill(\n",
    "                dataset=dataset,\n",
    "                region=region,\n",
    "                pt=normalize(ak.firsts(fatjets).pt, cut),\n",
    "                dphi=normalize(ak.firsts(dphi), cut),\n",
    "            )\n",
    "            \n",
    "        for region in regions:\n",
    "            fill(region)\n",
    "\n",
    "        return output\n",
    "    \n",
    "    def postprocess(self, accumulator):\n",
    "        return accumulator"
   ]
  },
  {
   "cell_type": "code",
   "execution_count": 16,
   "id": "c9ccfc05",
   "metadata": {
    "scrolled": false
   },
   "outputs": [
    {
     "data": {
      "application/vnd.jupyter.widget-view+json": {
       "model_id": "ecaab296239a4d90b4bf733fbb0200e0",
       "version_major": 2,
       "version_minor": 0
      },
      "text/plain": [
       "Output()"
      ]
     },
     "metadata": {},
     "output_type": "display_data"
    },
    {
     "name": "stderr",
     "output_type": "stream",
     "text": [
      "/opt/conda/lib/python3.8/site-packages/awkward/_connect/_numpy.py:195: RuntimeWarning: invalid value encountered in divide\n",
      "  result = getattr(ufunc, method)(\n"
     ]
    },
    {
     "data": {
      "text/html": [
       "<pre style=\"white-space:pre;overflow-x:auto;line-height:normal;font-family:Menlo,'DejaVu Sans Mono',consolas,'Courier New',monospace\"></pre>\n"
      ],
      "text/plain": []
     },
     "metadata": {},
     "output_type": "display_data"
    },
    {
     "data": {
      "text/html": [
       "<pre style=\"white-space:pre;overflow-x:auto;line-height:normal;font-family:Menlo,'DejaVu Sans Mono',consolas,'Courier New',monospace\">\n",
       "</pre>\n"
      ],
      "text/plain": [
       "\n"
      ]
     },
     "metadata": {},
     "output_type": "display_data"
    }
   ],
   "source": [
    "fileset = {\n",
    "    \"TTtoLNu2Q\" : [\n",
    "        \"root://eosuser.cern.ch//eos/user/a/adlintul/TTtoLNu2Q_TuneCP5_13p6TeV_powheg-pythia8/Run3Summer22/230131_071621/0000/nanoaod_1.root\"\n",
    "    ],\n",
    "}\n",
    "\n",
    "p = Processor()\n",
    "\n",
    "futures_run = processor.Runner(\n",
    "    executor = processor.FuturesExecutor(compression=None, workers=2),\n",
    "    schema = ScoutingNanoAODSchema,\n",
    "    maxchunks = 10,\n",
    ")\n",
    "\n",
    "out = futures_run(\n",
    "    fileset,\n",
    "    treename=\"Events\",\n",
    "    processor_instance=p\n",
    ")"
   ]
  },
  {
   "cell_type": "code",
   "execution_count": 17,
   "id": "4578ba08",
   "metadata": {},
   "outputs": [
    {
     "data": {
      "text/plain": [
       "{'sumw': defaultdict(float, {'TTtoLNu2Q': 231551.265625}),\n",
       " 'cutflow': Hist(\n",
       "   StrCategory(['TTtoLNu2Q'], growth=True, name='dataset', label='Dataset'),\n",
       "   StrCategory(['all', 'noselection'], growth=True, name='region', label='Region'),\n",
       "   IntCategory([0, 1, 2, 3, 4, 5, 6], growth=True, name='cut', label='Cut Idx'),\n",
       "   Regular(50, 40, 220, name='msoftdrop'),\n",
       "   storage=Double()) # Sum: 20.0 (1675.0 with flow),\n",
       " 'met': Hist(\n",
       "   StrCategory(['TTtoLNu2Q'], growth=True, name='dataset', label='Dataset'),\n",
       "   StrCategory(['all', 'noselection'], growth=True, name='region', label='Region'),\n",
       "   Regular(50, 0, 400, name='pt', label='MET $p_T$'),\n",
       "   storage=Double()) # Sum: 96.0 (98.0 with flow),\n",
       " 'goodmuon': Hist(\n",
       "   StrCategory(['TTtoLNu2Q'], growth=True, name='dataset', label='Dataset'),\n",
       "   StrCategory(['all', 'noselection'], growth=True, name='region', label='Region'),\n",
       "   Regular(50, 0, 400, name='pt', label='Leading muon $p_T$'),\n",
       "   storage=Double()) # Sum: 83.0 (98.0 with flow),\n",
       " 'leptonicW': Hist(\n",
       "   StrCategory(['TTtoLNu2Q'], growth=True, name='dataset', label='Dataset'),\n",
       "   StrCategory(['all', 'noselection'], growth=True, name='region', label='Region'),\n",
       "   Regular(50, 0, 400, name='pt', label='Leptonic W $p_T$'),\n",
       "   storage=Double()) # Sum: 81.0 (98.0 with flow),\n",
       " 'ak4bjet': Hist(\n",
       "   StrCategory(['TTtoLNu2Q'], growth=True, name='dataset', label='Dataset'),\n",
       "   StrCategory(['all', 'noselection'], growth=True, name='region', label='Region'),\n",
       "   Regular(50, 0, 10, name='njets', label='Number of AK4'),\n",
       "   Regular(50, 0, 1, name='pn_b_1', label='1st AK4 pn_b'),\n",
       "   storage=Double()) # Sum: 2.0 (98.0 with flow),\n",
       " 'ak8jet': Hist(\n",
       "   StrCategory(['TTtoLNu2Q'], growth=True, name='dataset', label='Dataset'),\n",
       "   StrCategory(['all', 'noselection'], growth=True, name='region', label='Region'),\n",
       "   Regular(50, 0, 400, name='pt', label='AK8 $p_T$'),\n",
       "   Regular(50, 0, 5, name='dphi', label='AK8 dphi'),\n",
       "   storage=Double()) # Sum: 81.0 (98.0 with flow)}"
      ]
     },
     "execution_count": 17,
     "metadata": {},
     "output_type": "execute_result"
    }
   ],
   "source": [
    "out"
   ]
  },
  {
   "cell_type": "code",
   "execution_count": 36,
   "id": "34bd1f02",
   "metadata": {},
   "outputs": [
    {
     "data": {
      "text/html": [
       "<div>\n",
       "<style scoped>\n",
       "    .dataframe tbody tr th:only-of-type {\n",
       "        vertical-align: middle;\n",
       "    }\n",
       "\n",
       "    .dataframe tbody tr th {\n",
       "        vertical-align: top;\n",
       "    }\n",
       "\n",
       "    .dataframe thead th {\n",
       "        text-align: right;\n",
       "    }\n",
       "</style>\n",
       "<table border=\"1\" class=\"dataframe\">\n",
       "  <thead>\n",
       "    <tr style=\"text-align: right;\">\n",
       "      <th></th>\n",
       "      <th>no selection</th>\n",
       "      <th>all selection</th>\n",
       "    </tr>\n",
       "  </thead>\n",
       "  <tbody>\n",
       "    <tr>\n",
       "      <th>Nothing</th>\n",
       "      <td>695.0</td>\n",
       "      <td>695.0</td>\n",
       "    </tr>\n",
       "    <tr>\n",
       "      <th>HLT_Mu50</th>\n",
       "      <td>86.0</td>\n",
       "      <td>86.0</td>\n",
       "    </tr>\n",
       "    <tr>\n",
       "      <th>MET $&gt;$ 140 GeV</th>\n",
       "      <td>0.0</td>\n",
       "      <td>42.0</td>\n",
       "    </tr>\n",
       "    <tr>\n",
       "      <th>Good muon</th>\n",
       "      <td>0.0</td>\n",
       "      <td>35.0</td>\n",
       "    </tr>\n",
       "    <tr>\n",
       "      <th>Leptonic W p$_T$ &gt; 150</th>\n",
       "      <td>0.0</td>\n",
       "      <td>12.0</td>\n",
       "    </tr>\n",
       "    <tr>\n",
       "      <th>Same hem. AK4 b-jet</th>\n",
       "      <td>0.0</td>\n",
       "      <td>12.0</td>\n",
       "    </tr>\n",
       "    <tr>\n",
       "      <th>Opp. hem. AK8 jet</th>\n",
       "      <td>0.0</td>\n",
       "      <td>12.0</td>\n",
       "    </tr>\n",
       "  </tbody>\n",
       "</table>\n",
       "</div>"
      ],
      "text/plain": [
       "                        no selection  all selection\n",
       "Nothing                        695.0          695.0\n",
       "HLT_Mu50                        86.0           86.0\n",
       "MET $>$ 140 GeV                  0.0           42.0\n",
       "Good muon                        0.0           35.0\n",
       "Leptonic W p$_T$ > 150           0.0           12.0\n",
       "Same hem. AK4 b-jet              0.0           12.0\n",
       "Opp. hem. AK8 jet                0.0           12.0"
      ]
     },
     "execution_count": 36,
     "metadata": {},
     "output_type": "execute_result"
    }
   ],
   "source": [
    "import pandas as pd\n",
    "\n",
    "df = pd.DataFrame([])\n",
    "df[\"no selection\"] = out[\"cutflow\"].project(\"region\", \"cut\")[hist.loc(\"noselection\"), :].values()\n",
    "df[\"all selection\"] = out[\"cutflow\"].project(\"region\", \"cut\")[hist.loc(\"all\"), :].values()\n",
    "\n",
    "df.index = ['Nothing','HLT_Mu50','MET $>$ 140 GeV','Good muon','Leptonic W p$_T$ > 150','Same hem. AK4 b-jet','Opp. hem. AK8 jet']\n",
    "\n",
    "df"
   ]
  },
  {
   "cell_type": "code",
   "execution_count": 53,
   "id": "08a9dbe4",
   "metadata": {},
   "outputs": [
    {
     "data": {
      "text/plain": [
       "<matplotlib.legend.Legend at 0x7f5f7d9f9fd0>"
      ]
     },
     "execution_count": 53,
     "metadata": {},
     "output_type": "execute_result"
    },
    {
     "data": {
      "image/png": "[encoded data removed]",
      "text/plain": [
       "<Figure size 1000x1000 with 1 Axes>"
      ]
     },
     "metadata": {},
     "output_type": "display_data"
    }
   ],
   "source": [
    "fig, ax = plt.subplots()\n",
    "\n",
    "for cut in [\"noselection\", \"all\"]:\n",
    "\n",
    "    h = out[\"met\"].project(\"region\", \"pt\")[hist.loc(cut), :]\n",
    "\n",
    "    mplhep.histplot(h, label=cut, yerr=False, histtype='fill', alpha=1,)\n",
    "    \n",
    "ax.axvline(55, color='red',ls='--', label=r\"MET $>$ 50\")\n",
    "ax.legend()"
   ]
  },
  {
   "cell_type": "code",
   "execution_count": 52,
   "id": "5ee600fd",
   "metadata": {},
   "outputs": [
    {
     "data": {
      "text/plain": [
       "<matplotlib.legend.Legend at 0x7f5f7db19eb0>"
      ]
     },
     "execution_count": 52,
     "metadata": {},
     "output_type": "execute_result"
    },
    {
     "data": {
      "image/png": "[encoded data removed]",
      "text/plain": [
       "<Figure size 1000x1000 with 1 Axes>"
      ]
     },
     "metadata": {},
     "output_type": "display_data"
    }
   ],
   "source": [
    "fig, ax = plt.subplots()\n",
    "\n",
    "for cut in [\"noselection\", \"all\"]:\n",
    "\n",
    "    h = out[\"goodmuon\"].project(\"region\", \"pt\")[hist.loc(cut), :]\n",
    "\n",
    "    mplhep.histplot(h, label=cut, yerr=False, histtype='fill', alpha=1,)\n",
    "\n",
    "ax.axvline(55, color='red',ls='--', label=r\"p$_T >$ 55\")    \n",
    "ax.legend()"
   ]
  },
  {
   "cell_type": "code",
   "execution_count": 54,
   "id": "b7cf8c0b",
   "metadata": {},
   "outputs": [
    {
     "data": {
      "text/plain": [
       "<matplotlib.legend.Legend at 0x7f5f7d896c10>"
      ]
     },
     "execution_count": 54,
     "metadata": {},
     "output_type": "execute_result"
    },
    {
     "data": {
      "image/png": "[encoded data removed]",
      "text/plain": [
       "<Figure size 1000x1000 with 1 Axes>"
      ]
     },
     "metadata": {},
     "output_type": "display_data"
    }
   ],
   "source": [
    "fig, ax = plt.subplots()\n",
    "\n",
    "for cut in [\"noselection\", \"all\"]:\n",
    "\n",
    "    h = out[\"leptonicW\"].project(\"region\", \"pt\")[hist.loc(cut), :]\n",
    "\n",
    "    mplhep.histplot(h, label=cut, yerr=False, histtype='fill', alpha=1,)\n",
    "\n",
    "ax.axvline(150, color='red',ls='--', label=r\"p$_T >$ 150\")    \n",
    "ax.legend()"
   ]
  },
  {
   "cell_type": "code",
   "execution_count": 23,
   "id": "031ae0f0",
   "metadata": {},
   "outputs": [],
   "source": [
    "import json\n",
    "\n",
    "fileset = {}\n",
    "\n",
    "with open(\"files.json\") as fin:\n",
    "    fileset = json.load(fin)"
   ]
  },
  {
   "cell_type": "code",
   "execution_count": null,
   "id": "e2605323",
   "metadata": {
    "scrolled": false
   },
   "outputs": [],
   "source": [
    "from distributed import Client\n",
    "from lpcjobqueue import LPCCondorCluster\n",
    "\n",
    "from dask.distributed import performance_report\n",
    "from dask_jobqueue import HTCondorCluster, SLURMCluster\n",
    "\n",
    "env_extra = [\n",
    "    f\"export PYTHONPATH=$PYTHONPATH:{os.getcwd()}\",\n",
    "]\n",
    "\n",
    "cluster = LPCCondorCluster(\n",
    "    ship_env=True,\n",
    ")\n",
    "\n",
    "cluster.adapt(minimum=1, maximum=100)\n",
    "client = Client(cluster)\n",
    "\n",
    "print(\"Waiting for at least one worker...\")\n",
    "client.wait_for_workers(1)\n",
    "\n",
    "uproot.open.defaults[\"xrootd_handler\"] = uproot.source.xrootd.MultithreadedXRootDSource\n",
    "\n",
    "output = processor.run_uproot_job(\n",
    "            fileset,\n",
    "            \"Events\",\n",
    "            processor_instance=Processor(),\n",
    "            executor=processor.dask_executor,\n",
    "            executor_args={\n",
    "                \"schema\": ScoutingNanoAODSchema,\n",
    "                \"savemetrics\": True,\n",
    "                \"retries\": 3,\n",
    "                \"client\": client,\n",
    "            },\n",
    "            chunksize=10000,\n",
    "            #maxchunks=args.max,\n",
    "        )"
   ]
  },
  {
   "cell_type": "code",
   "execution_count": null,
   "id": "bf7babba",
   "metadata": {},
   "outputs": [],
   "source": [
    "output"
   ]
  },
  {
   "cell_type": "code",
   "execution_count": null,
   "id": "2a7dd064",
   "metadata": {},
   "outputs": [],
   "source": [
    "output[0]['templates'].project('region','pt')[hist.loc('all'), :]"
   ]
  },
  {
   "cell_type": "code",
   "execution_count": null,
   "id": "50f8b39f",
   "metadata": {},
   "outputs": [],
   "source": [
    "out = output[0]\n",
    "\n",
    "fig, axs = plt.subplots(2, 2)\n",
    "plt.subplots_adjust(left=0.1,\n",
    "                    bottom=0.1,\n",
    "                    right=0.9,\n",
    "                    top=0.9,\n",
    "                    wspace=0.4,\n",
    "                    hspace=0.4)\n",
    "\n",
    "row = 0\n",
    "column = 0\n",
    "for i, var in enumerate(['pt', 'mass','mreg','ddb']):\n",
    "    h = out['templates'].project('region',var)[hist.loc('all'), :]\n",
    "    \n",
    "    if i == 2:\n",
    "        row = 0\n",
    "        column = 1\n",
    "\n",
    "    mplhep.histplot(h, label=\"Leading fatjet\", ax=axs[row, column])\n",
    "    axs[row, column].set_yscale('log')\n",
    "        \n",
    "    row += 1\n",
    "        \n",
    "axs[0,1].legend(loc='center left', bbox_to_anchor=(1, 0.5))"
   ]
  },
  {
   "cell_type": "code",
   "execution_count": null,
   "id": "d46f7f3d",
   "metadata": {
    "scrolled": false
   },
   "outputs": [],
   "source": [
    "out = output[0]\n",
    "\n",
    "fig, axs = plt.subplots(2, 2)\n",
    "plt.subplots_adjust(left=0.1,\n",
    "                    bottom=0.1,\n",
    "                    right=0.9,\n",
    "                    top=0.9,\n",
    "                    wspace=0.4,\n",
    "                    hspace=0.4)\n",
    "\n",
    "row = 0\n",
    "column = 0\n",
    "for i, var in enumerate(['pt', 'mass','mreg','ddb']):\n",
    "    h = out['templates'].project('cutflow',var)    \n",
    "    for cut in ['min', 'met', 'onemuon', 'leptonicW', 'onebjet', 'onefatjet']:\n",
    "    \n",
    "        if i == 2:\n",
    "            row = 0\n",
    "            column = 1\n",
    "    \n",
    "        mplhep.histplot(h[hist.loc(cut), :], label=cut, ax=axs[row, column])\n",
    "        axs[row, column].set_yscale('log')\n",
    "        \n",
    "    row += 1\n",
    "        \n",
    "axs[0,1].legend(loc='center left', bbox_to_anchor=(1, 0.5))"
   ]
  },
  {
   "cell_type": "code",
   "execution_count": 3,
   "id": "50b1fe61",
   "metadata": {},
   "outputs": [],
   "source": [
    "fileset = {\n",
    "    \"TTtoLNu2Q\" : [\n",
    "        \"root://eosuser.cern.ch//eos/user/a/adlintul/TTtoLNu2Q_TuneCP5_13p6TeV_powheg-pythia8/Run3Summer22/230131_071621/0000/nanoaod_1.root\"\n",
    "    ],\n",
    "}\n",
    "\n",
    "events = NanoEventsFactory.from_root(\n",
    "    fileset['TTtoLNu2Q'][0],\n",
    "    schemaclass=ScoutingNanoAODSchema\n",
    ").events()"
   ]
  },
  {
   "cell_type": "code",
   "execution_count": 4,
   "id": "0eafe21a",
   "metadata": {},
   "outputs": [],
   "source": [
    "top = events.GenPart[\n",
    "        (abs(events.GenPart.pdgId) == 6)\n",
    "        & (events.GenPart.hasFlags(['fromHardProcess', 'isLastCopy']))\n",
    "]"
   ]
  },
  {
   "cell_type": "code",
   "execution_count": 7,
   "id": "5c038dee",
   "metadata": {},
   "outputs": [],
   "source": [
    "w_top = top.distinctChildren[\n",
    "    (abs(top.distinctChildren.pdgId) == 24)\n",
    "    & (top.distinctChildren.hasFlags(['isLastCopy']))\n",
    "]\n",
    "w_top = ak.flatten(w_top, axis=2)"
   ]
  },
  {
   "cell_type": "code",
   "execution_count": 8,
   "id": "631d26be",
   "metadata": {},
   "outputs": [],
   "source": [
    "w_top_is_had = ak.any(\n",
    "    (abs(w_top.distinctChildren.pdgId) < 7)\n",
    "    & (w_top.distinctChildren.hasFlags(['isLastCopy']))\n",
    ", axis=2)"
   ]
  },
  {
   "cell_type": "code",
   "execution_count": 10,
   "id": "153b18a0",
   "metadata": {},
   "outputs": [],
   "source": [
    "had_top = w_top[w_top_is_had].distinctParent"
   ]
  },
  {
   "cell_type": "code",
   "execution_count": 11,
   "id": "1dcde459",
   "metadata": {},
   "outputs": [],
   "source": [
    "fatjet = ak.firsts(events.ScoutingFatJet)"
   ]
  },
  {
   "cell_type": "code",
   "execution_count": 50,
   "id": "85c59542",
   "metadata": {},
   "outputs": [],
   "source": [
    "near_top, near_top_dr = fatjet.nearest(had_top, axis=None, threshold=0.8, return_metric=True)\n",
    "near_top_dr = ak.to_numpy(ak.fill_none(near_top_dr, 99))"
   ]
  },
  {
   "cell_type": "code",
   "execution_count": 51,
   "id": "efa8f6ae",
   "metadata": {},
   "outputs": [],
   "source": [
    "fatjet[\"dr_T\"] = near_top_dr"
   ]
  },
  {
   "cell_type": "code",
   "execution_count": 13,
   "id": "c2677178",
   "metadata": {},
   "outputs": [],
   "source": [
    "b_near_top = near_top.distinctChildren[abs(near_top.distinctChildren.pdgId) == 5]"
   ]
  },
  {
   "cell_type": "code",
   "execution_count": 14,
   "id": "eafc115a",
   "metadata": {},
   "outputs": [],
   "source": [
    "b_near_top_matched, b_near_top_dr = fatjet.nearest(b_near_top, axis=None, threshold=0.8, return_metric=True)\n",
    "b_near_top_dr = ak.to_numpy(ak.fill_none(b_near_top_dr, 99))"
   ]
  },
  {
   "cell_type": "code",
   "execution_count": 44,
   "id": "ee7264d0",
   "metadata": {},
   "outputs": [],
   "source": [
    "fatjet[\"dr_T_b\"] = b_near_top_dr"
   ]
  },
  {
   "cell_type": "code",
   "execution_count": 15,
   "id": "56966f1a",
   "metadata": {},
   "outputs": [],
   "source": [
    "W_near_top = near_top.distinctChildren[(\n",
    "    (abs(near_top.distinctChildren.pdgId) == 24)\n",
    "    & (ak.any(abs(near_top.distinctChildren.distinctChildren.pdgId) < 7))\n",
    ")]"
   ]
  },
  {
   "cell_type": "code",
   "execution_count": null,
   "id": "3785f2c7",
   "metadata": {},
   "outputs": [],
   "source": [
    "W_near_top.pdgId"
   ]
  },
  {
   "cell_type": "code",
   "execution_count": 16,
   "id": "aa1dbb44",
   "metadata": {},
   "outputs": [],
   "source": [
    "q_W_near_top = ak.flatten(W_near_top.distinctChildren, axis=2)\n",
    "q_W_near_top_dr = fatjet.delta_r(q_W_near_top)"
   ]
  },
  {
   "cell_type": "code",
   "execution_count": 17,
   "id": "b0250d64",
   "metadata": {},
   "outputs": [],
   "source": [
    "index_ascend = ak.argsort(q_W_near_top_dr, axis=1)\n",
    "index_descend = ak.argsort(q_W_near_top_dr, ascending=False, axis=1)"
   ]
  },
  {
   "cell_type": "code",
   "execution_count": 18,
   "id": "c5d3b194",
   "metadata": {},
   "outputs": [],
   "source": [
    "q_W_near_top_ascend = q_W_near_top[index_ascend]\n",
    "q_W_near_top_descend = q_W_near_top[index_descend]"
   ]
  },
  {
   "cell_type": "code",
   "execution_count": 19,
   "id": "9e69b4c2",
   "metadata": {},
   "outputs": [],
   "source": [
    "q_W_near_top_dr_ascend = q_W_near_top_dr[index_ascend]\n",
    "q_W_near_top_dr_descend = q_W_near_top_dr[index_descend]"
   ]
  },
  {
   "cell_type": "code",
   "execution_count": 40,
   "id": "17d5308d",
   "metadata": {},
   "outputs": [],
   "source": [
    "fatjet[\"dr_T_Wq_max\"] = ak.fill_none(ak.firsts(q_W_near_top_dr_descend), 99)\n",
    "fatjet[\"dr_T_Wq_min\"] = ak.fill_none(ak.firsts(q_W_near_top_dr_ascend), 99)\n",
    "fatjet[\"dr_T_Wq_max_pdgId\"] = ak.fill_none(ak.firsts(q_W_near_top_descend).pdgId, 99)\n",
    "fatjet[\"dr_T_Wq_min_pdgId\"] = ak.fill_none(ak.firsts(q_W_near_top_ascend).pdgId, 99)"
   ]
  },
  {
   "cell_type": "code",
   "execution_count": 56,
   "id": "9a36e1d7",
   "metadata": {},
   "outputs": [],
   "source": [
    "top_matched = ak.fill_none((fatjet[\"dr_T_b\"] < 0.8) & (fatjet[\"dr_T_Wq_max\"] < 0.8), False)\n",
    "w_matched = ak.fill_none((fatjet[\"dr_T_b\"] >= 0.8) & (fatjet[\"dr_T_Wq_max\"] < 0.8), False)\n",
    "non_matched = ak.fill_none((~top_matched) & (~w_matched), True)"
   ]
  },
  {
   "cell_type": "code",
   "execution_count": 82,
   "id": "f919bbae",
   "metadata": {},
   "outputs": [],
   "source": [
    "cat = np.repeat(\"ERROR\",len(fatjet.pt))"
   ]
  },
  {
   "cell_type": "code",
   "execution_count": 95,
   "id": "025c5803",
   "metadata": {},
   "outputs": [],
   "source": [
    "cat = [\"top_matched\" if t else c for c, t in zip(cat, top_matched.to_numpy())]\n",
    "cat = [\"w_matched\" if w else c for c, w in zip(cat, w_matched.to_numpy())]\n",
    "cat = [\"non_matched\" if n else c for c, n in zip(cat, non_matched.to_numpy())]"
   ]
  },
  {
   "cell_type": "code",
   "execution_count": 100,
   "id": "04110ab4",
   "metadata": {},
   "outputs": [],
   "source": [
    "fatjet[\"cat\"] = cat"
   ]
  },
  {
   "cell_type": "code",
   "execution_count": null,
   "id": "0db79bdf",
   "metadata": {},
   "outputs": [],
   "source": []
  }
 ],
 "metadata": {
  "kernelspec": {
   "display_name": "Python 3 (ipykernel)",
   "language": "python",
   "name": "python3"
  },
  "language_info": {
   "codemirror_mode": {
    "name": "ipython",
    "version": 3
   },
   "file_extension": ".py",
   "mimetype": "text/x-python",
   "name": "python",
   "nbconvert_exporter": "python",
   "pygments_lexer": "ipython3",
   "version": "3.8.13"
  }
 },
 "nbformat": 4,
 "nbformat_minor": 5
}
